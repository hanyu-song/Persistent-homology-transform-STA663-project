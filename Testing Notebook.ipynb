{
 "cells": [
  {
   "cell_type": "code",
   "execution_count": 152,
   "metadata": {
    "collapsed": false
   },
   "outputs": [],
   "source": [
    "import diagram"
   ]
  },
  {
   "cell_type": "code",
   "execution_count": 52,
   "metadata": {
    "collapsed": false
   },
   "outputs": [
    {
     "name": "stdout",
     "output_type": "stream",
     "text": [
      "4 4\r\n",
      "-1 1\r\n",
      "-1 -1\r\n",
      "1 1\r\n",
      "1 -1\r\n",
      "1 2\r\n",
      "1 3\r\n",
      "3 4\r\n",
      "2 4\r\n"
     ]
    }
   ],
   "source": []
  },
  {
   "cell_type": "code",
   "execution_count": 2,
   "metadata": {
    "collapsed": false
   },
   "outputs": [],
   "source": [
    "dict_vert, edges = diagram.read_mesh_graph(\"test_obj\", 3)"
   ]
  },
  {
   "cell_type": "code",
   "execution_count": 3,
   "metadata": {
    "collapsed": false
   },
   "outputs": [
    {
     "data": {
      "text/plain": [
       "{1: [-1.0, 1.0], 2: [-1.0, -1.0], 3: [1.0, 1.0], 4: [1.0, -1.0]}"
      ]
     },
     "execution_count": 3,
     "metadata": {},
     "output_type": "execute_result"
    }
   ],
   "source": [
    "dict_vert"
   ]
  },
  {
   "cell_type": "code",
   "execution_count": 4,
   "metadata": {
    "collapsed": true
   },
   "outputs": [],
   "source": [
    "direction = [1,1]"
   ]
  },
  {
   "cell_type": "code",
   "execution_count": 5,
   "metadata": {
    "collapsed": false
   },
   "outputs": [],
   "source": [
    "list_heights, dict_heights, dict_neig = diagram.direction_order(dict_vert, edges, direction)"
   ]
  },
  {
   "cell_type": "code",
   "execution_count": 7,
   "metadata": {
    "collapsed": false
   },
   "outputs": [],
   "source": [
    "dict_vert[1].append(2)"
   ]
  },
  {
   "cell_type": "code",
   "execution_count": 15,
   "metadata": {
    "collapsed": false
   },
   "outputs": [],
   "source": [
    "None"
   ]
  },
  {
   "cell_type": "code",
   "execution_count": 7,
   "metadata": {
    "collapsed": false
   },
   "outputs": [],
   "source": [
    "test_diagram = diagram.make_diagram(list_heights, dict_heights, dict_neig, infinity=100)"
   ]
  },
  {
   "cell_type": "code",
   "execution_count": 10,
   "metadata": {
    "collapsed": false
   },
   "outputs": [
    {
     "data": {
      "text/plain": [
       "[-2.0, -2.0, -2.0]"
      ]
     },
     "execution_count": 10,
     "metadata": {},
     "output_type": "execute_result"
    }
   ],
   "source": [
    "test_diagram.infpoints"
   ]
  },
  {
   "cell_type": "code",
   "execution_count": 288,
   "metadata": {
    "collapsed": false
   },
   "outputs": [],
   "source": [
    "def new_diagram(dict_heights, dict_neighbors):\n",
    "    dict_trees = {v : Tree(v) for v in dict_heights.keys()}\n",
    "    dict_deaths = {v: None for v in dict_heights.keys()}\n",
    "    pairs = [(key, value) for key, value in dict_heights.items()]\n",
    "    pairs.sort(key = lambda x: x[1])\n",
    "    print(\"here\")\n",
    "    print(pairs)\n",
    "    for pair in pairs:\n",
    "        v = pair[0]\n",
    "        print(\"vertex: \",v)\n",
    "        print(\"root: \", Find(dict_trees[v]).name)\n",
    "        self_root = Find(dict_trees[v]).name == v\n",
    "        higher_nodes = [vert for vert in dict_heights.keys() if \n",
    "                        v in dict_neighbors[vert]]\n",
    "        vert_height = [(vert, dict_heights[vert]) for vert in higher_nodes\n",
    "                        if dict_heights[vert] > dict_heights[v]]\n",
    "        for vert, height in vert_height:\n",
    "            height_Union(dict_trees[v], dict_trees[vert], dict_heights)\n",
    "        if len(dict_neighbors[v]) != 0:\n",
    "            print(\"has lower neighbor, dies immediately\")\n",
    "            dict_deaths.update({v: dict_heights[v]})\n",
    "        elif self_root:\n",
    "            print(\"self root\")\n",
    "            dict_deaths.update({v: None})\n",
    "        else:\n",
    "            print(\"Considering higher nodes\")\n",
    "            print(higher_nodes)\n",
    "            if len(higher_nodes) != 0:\n",
    "                print(\"Finding minimal higher nodes\")\n",
    "\n",
    "                # sort this list by height\n",
    "                vert_height.sort(key = lambda x: x[1])\n",
    "                for vert, height in vert_height:\n",
    "                    print(\"Considering\", vert)\n",
    "                    if Find(dict_trees[vert]).name != v:\n",
    "                        print(\"Root of\", vert, \"is not\", v)\n",
    "                        dict_deaths.update({v: height})\n",
    "                        break\n",
    "        #for neigh in dict_neighbors[v]:\n",
    "            #dict_trees[v].change_parent(dict_trees[neigh])\n",
    "            #height_Union(dict_trees[v], dict_trees[neigh], dict_heights)\n",
    "                \n",
    "    # new build a diagram using about information\n",
    "    diag = diagram.Diagram()\n",
    "    for v in dict_heights.keys():\n",
    "        if dict_deaths[v] == None:\n",
    "            diag.addinfpt(dict_heights[v])\n",
    "        else:\n",
    "            diag.addpt((dict_heights[v], dict_deaths[v]))\n",
    "            \n",
    "            \n",
    "    return diag"
   ]
  },
  {
   "cell_type": "code",
   "execution_count": 289,
   "metadata": {
    "collapsed": false
   },
   "outputs": [
    {
     "name": "stdout",
     "output_type": "stream",
     "text": [
      "{1: -1.0, 2: 0.0, 3: 1.0, 4: 0.0, 5: 0.0, 6: 1.0, 7: -1.0}\n",
      "here\n",
      "[(1, -1.0), (7, -1.0), (2, 0.0), (4, 0.0), (5, 0.0), (3, 1.0), (6, 1.0)]\n",
      "vertex:  1\n",
      "root:  1\n",
      "self root\n",
      "vertex:  7\n",
      "root:  7\n",
      "self root\n",
      "vertex:  2\n",
      "root:  1\n",
      "has lower neighbor, dies immediately\n",
      "vertex:  4\n",
      "root:  4\n",
      "self root\n",
      "vertex:  5\n",
      "root:  7\n",
      "has lower neighbor, dies immediately\n",
      "vertex:  3\n",
      "root:  1\n",
      "has lower neighbor, dies immediately\n",
      "vertex:  6\n",
      "root:  7\n",
      "has lower neighbor, dies immediately\n",
      "[(0.0, 0.0), (1.0, 1.0), (0.0, 0.0), (1.0, 1.0)]\n",
      "[-1.0, 0.0, -1.0]\n"
     ]
    }
   ],
   "source": [
    "print(dict_heights)\n",
    "2 in dict_neig[1]\n",
    "res = new_diagram(dict_heights, dict_neig)\n",
    "print(res.points)\n",
    "print(res.infpoints)"
   ]
  },
  {
   "cell_type": "code",
   "execution_count": 219,
   "metadata": {
    "collapsed": true
   },
   "outputs": [],
   "source": [
    "class Tree:\n",
    "    def __init__(self, name):\n",
    "        self.parent = self\n",
    "        self.rank = 0\n",
    "        self.name = name\n",
    "    def change_parent(self, new_parent):\n",
    "        self.parent = new_parent\n",
    "\n",
    "def Find(x):\n",
    "    if x.parent != x:\n",
    "        x.parent = Find(x.parent)\n",
    "    return x.parent\n",
    "        \n",
    "def Union(x, y):\n",
    "    x_root = Find(x)\n",
    "    y_root = Find(y)\n",
    "    if x_root == y_root:\n",
    "        return None\n",
    "    elif x_root.rank < y_root.rank:\n",
    "        x_root.parent = y_root\n",
    "    elif x_root.rank > y_root.rank:\n",
    "        y_root.parent = x_root\n",
    "    else:\n",
    "        y_root.parent = x_root\n",
    "        x_root.rank += 1\n",
    "        \n",
    "def height_Union(x, y, dict_heights):\n",
    "    x_root = Find(x)\n",
    "    y_root = Find(y)\n",
    "    if x_root == y_root:\n",
    "        return None\n",
    "    if dict_heights[x_root.name] < dict_heights[y_root.name]:\n",
    "        y_root.parent = x_root\n",
    "    elif dict_heights[x_root.name] == dict_heights[y_root.name]:\n",
    "        if x.name < y.name:\n",
    "            y_root.parent = x_root\n",
    "        else:\n",
    "            x_root.parent = y_root\n",
    "    else:\n",
    "        x_root.parent = y_root\n",
    "    \n",
    "\n",
    "        "
   ]
  },
  {
   "cell_type": "code",
   "execution_count": 91,
   "metadata": {
    "collapsed": false
   },
   "outputs": [],
   "source": [
    "tree5 = Tree(5)\n",
    "tree1 = Tree(1)\n",
    "tree2 = Tree(2)\n",
    "tree3 = Tree(3)\n",
    "tree4 = Tree(4)"
   ]
  },
  {
   "cell_type": "code",
   "execution_count": 92,
   "metadata": {
    "collapsed": false
   },
   "outputs": [],
   "source": [
    "Union(tree5, tree1)\n",
    "Union(tree1, tree3)\n",
    "Union(tree3, tree4)\n",
    "Union(tree2, tree2)"
   ]
  },
  {
   "cell_type": "code",
   "execution_count": 93,
   "metadata": {
    "collapsed": false
   },
   "outputs": [
    {
     "data": {
      "text/plain": [
       "False"
      ]
     },
     "execution_count": 93,
     "metadata": {},
     "output_type": "execute_result"
    }
   ],
   "source": [
    "Find(tree4) == Find(tree2)"
   ]
  },
  {
   "cell_type": "code",
   "execution_count": 96,
   "metadata": {
    "collapsed": false
   },
   "outputs": [
    {
     "data": {
      "text/plain": [
       "True"
      ]
     },
     "execution_count": 96,
     "metadata": {},
     "output_type": "execute_result"
    }
   ],
   "source": [
    "tree2.name == 2"
   ]
  },
  {
   "cell_type": "code",
   "execution_count": 159,
   "metadata": {
    "collapsed": true
   },
   "outputs": [],
   "source": [
    "diag = diagram.Diagram()"
   ]
  },
  {
   "cell_type": "code",
   "execution_count": 160,
   "metadata": {
    "collapsed": true
   },
   "outputs": [],
   "source": [
    "diag.addpt((2,3))"
   ]
  },
  {
   "cell_type": "code",
   "execution_count": 161,
   "metadata": {
    "collapsed": false
   },
   "outputs": [
    {
     "data": {
      "text/plain": [
       "[(2, 3)]"
      ]
     },
     "execution_count": 161,
     "metadata": {},
     "output_type": "execute_result"
    }
   ],
   "source": [
    "diag.points"
   ]
  },
  {
   "cell_type": "code",
   "execution_count": 252,
   "metadata": {
    "collapsed": false
   },
   "outputs": [],
   "source": [
    "dict_vert, edges = diagram.read_mesh_graph(\"test_obj2\", 3)"
   ]
  },
  {
   "cell_type": "code",
   "execution_count": 242,
   "metadata": {
    "collapsed": false
   },
   "outputs": [
    {
     "data": {
      "text/plain": [
       "({1: [0.0, -1.0],\n",
       "  2: [0.0, 0.0],\n",
       "  3: [1.0, 1.0],\n",
       "  4: [2.0, 0.0],\n",
       "  5: [3.0, 0.0],\n",
       "  6: [3.0, 1.0]},\n",
       " [(1, 2), (2, 3), (3, 4), (4, 5), (5, 6)])"
      ]
     },
     "execution_count": 242,
     "metadata": {},
     "output_type": "execute_result"
    }
   ],
   "source": [
    "dict_vert, edges"
   ]
  },
  {
   "cell_type": "code",
   "execution_count": 365,
   "metadata": {
    "collapsed": false
   },
   "outputs": [],
   "source": [
    "direction = [1,1]"
   ]
  },
  {
   "cell_type": "code",
   "execution_count": 366,
   "metadata": {
    "collapsed": true
   },
   "outputs": [],
   "source": [
    "list_heights, dict_heights, dict_neig = diagram.direction_order(dict_vert, edges, direction)"
   ]
  },
  {
   "cell_type": "code",
   "execution_count": 367,
   "metadata": {
    "collapsed": false
   },
   "outputs": [
    {
     "data": {
      "text/plain": [
       "{1: -1.0, 2: 0.0, 3: 2.0, 4: 2.0, 5: 3.0, 6: 4.0, 7: 1.0}"
      ]
     },
     "execution_count": 367,
     "metadata": {},
     "output_type": "execute_result"
    }
   ],
   "source": [
    "dict_heights"
   ]
  },
  {
   "cell_type": "code",
   "execution_count": 368,
   "metadata": {
    "collapsed": false
   },
   "outputs": [
    {
     "name": "stdout",
     "output_type": "stream",
     "text": [
      "[(1, -1.0), (7, 1.0)]\n",
      "current height: -1.0\n",
      "Current vertex:  1\n",
      "Its root: 1\n",
      "1 is not own root? False\n",
      "current height: 0.0\n",
      "Current vertex:  1\n",
      "Its root: 1\n",
      "1 is not own root? False\n",
      "current height: 1.0\n",
      "Current vertex:  1\n",
      "Its root: 1\n",
      "1 is not own root? False\n",
      "Current vertex:  7\n",
      "Its root: 7\n",
      "7 is not own root? False\n",
      "current height: 2.0\n",
      "Current vertex:  1\n",
      "Its root: 1\n",
      "1 is not own root? False\n",
      "Current vertex:  7\n",
      "Its root: 7\n",
      "7 is not own root? False\n",
      "current height: 3.0\n",
      "Current vertex:  1\n",
      "Its root: 1\n",
      "1 is not own root? False\n",
      "Current vertex:  7\n",
      "Its root: 1\n",
      "7 is not own root? True\n",
      "7 no longer own root\n",
      "current height: 4.0\n",
      "Current vertex:  1\n",
      "Its root: 1\n",
      "1 is not own root? False\n"
     ]
    }
   ],
   "source": [
    "diag = new_diagram(dict_heights, dict_neig)"
   ]
  },
  {
   "cell_type": "code",
   "execution_count": 264,
   "metadata": {
    "collapsed": false
   },
   "outputs": [
    {
     "data": {
      "text/plain": [
       "[-1.0, 0.0, -1.0]"
      ]
     },
     "execution_count": 264,
     "metadata": {},
     "output_type": "execute_result"
    }
   ],
   "source": [
    "diag.infpoints"
   ]
  },
  {
   "cell_type": "code",
   "execution_count": 220,
   "metadata": {
    "collapsed": false
   },
   "outputs": [
    {
     "name": "stdout",
     "output_type": "stream",
     "text": [
      "Current vertex 1\n",
      "Current vertex 2\n",
      "Consider neighbor: 1\n",
      "Root of 2 is  1\n",
      "Current vertex 3\n",
      "Consider neighbor: 2\n",
      "Root of 3 is  1\n",
      "Consider neighbor: 4\n",
      "Root of 3 is  1\n",
      "Current vertex 4\n",
      "Current vertex 5\n",
      "Consider neighbor: 4\n",
      "Root of 5 is  1\n"
     ]
    }
   ],
   "source": [
    "dict_trees = {v : Tree(v) for v in dict_heights.keys()}\n",
    "for v in dict_heights.keys():\n",
    "    print(\"Current vertex\", v)\n",
    "    for neigh in dict_neig[v]:\n",
    "        print(\"Consider neighbor:\", neigh)\n",
    "        #dict_trees[v].change_parent(dict_trees[neigh])\n",
    "        height_Union(dict_trees[v], dict_trees[neigh], dict_heights)\n",
    "        print(\"Root of\", v, \"is \", Find(dict_trees[v]).name)"
   ]
  },
  {
   "cell_type": "code",
   "execution_count": 222,
   "metadata": {
    "collapsed": false
   },
   "outputs": [
    {
     "data": {
      "text/plain": [
       "{1: -1.0, 2: 0.0, 3: 1.0, 4: 0.0, 5: 0.0}"
      ]
     },
     "execution_count": 222,
     "metadata": {},
     "output_type": "execute_result"
    }
   ],
   "source": [
    "dict_heights"
   ]
  },
  {
   "cell_type": "code",
   "execution_count": 224,
   "metadata": {
    "collapsed": false
   },
   "outputs": [],
   "source": [
    "new = [(key, value) for key, value in dict_heights.items()]"
   ]
  },
  {
   "cell_type": "code",
   "execution_count": 227,
   "metadata": {
    "collapsed": false
   },
   "outputs": [],
   "source": [
    "new.sort(key = lambda x: x[1])"
   ]
  },
  {
   "cell_type": "code",
   "execution_count": 330,
   "metadata": {
    "collapsed": false
   },
   "outputs": [
    {
     "name": "stdout",
     "output_type": "stream",
     "text": [
      "{1, 2, 3, 5}\n",
      "{1, 2, 3, 5}\n"
     ]
    }
   ],
   "source": [
    "dead = set([5,3,1,2,3])\n",
    "print(dead)\n",
    "list(dead).sort()\n",
    "print(dead)"
   ]
  },
  {
   "cell_type": "code",
   "execution_count": 354,
   "metadata": {
    "collapsed": true
   },
   "outputs": [],
   "source": [
    "def new_diagram(dict_heights, dict_neighbors):\n",
    "    dict_trees = {v : Tree(v) for v in dict_heights.keys()}\n",
    "    vertices = set(dict_heights.keys())\n",
    "    heights = set(dict_heights.values())\n",
    "    heights_sorted = sorted(list(heights))\n",
    "    dict_below_h = {h: [] for h in heights}\n",
    "    for h in heights:\n",
    "        for v in vertices:\n",
    "            if dict_heights[v] <= h:\n",
    "                dict_below_h[h].append(v)\n",
    "    dict_deaths = {v: None for v in dict_heights.keys()}\n",
    "    dead = set()\n",
    "    for v in vertices:\n",
    "        if len(dict_neighbors[v]) != 0:\n",
    "            dict_deaths.update({v: dict_heights[v]})\n",
    "            dead.add(v)\n",
    "    alive = vertices.difference(dead)\n",
    "    pairs = [(key, value) for key, value in dict_heights.items() if key in alive]\n",
    "    pairs.sort(key = lambda x: x[1])\n",
    "    print(pairs)\n",
    "    for h in heights_sorted:\n",
    "        print(\"current height:\", h)\n",
    "        died = set()\n",
    "        for v in dict_below_h[h]:\n",
    "            for neigh in dict_neighbors[v]:\n",
    "                height_Union(dict_trees[v], dict_trees[neigh], dict_heights)\n",
    "        for v in alive:\n",
    "            if dict_heights[v] <= h:\n",
    "                print(\"Current vertex: \", v)\n",
    "                print(\"Its root:\", Find(dict_trees[v]).name)\n",
    "                own_root = v != Find(dict_trees[v]).name\n",
    "                print(v, \"is not own root?\", own_root)\n",
    "                if own_root:\n",
    "                    print(v, \"no longer own root\")\n",
    "                    died.add(v)\n",
    "                    dict_deaths.update({v: h}) \n",
    "        alive = alive.difference(died)\n",
    "    diag = diagram.Diagram()\n",
    "    for v in dict_heights.keys():\n",
    "        if dict_deaths[v] == None:\n",
    "            diag.addinfpt(dict_heights[v])\n",
    "        else:\n",
    "            diag.addpt((dict_heights[v], dict_deaths[v]))\n",
    "            \n",
    "            \n",
    "    return diag        "
   ]
  },
  {
   "cell_type": "code",
   "execution_count": 369,
   "metadata": {
    "collapsed": false
   },
   "outputs": [
    {
     "name": "stdout",
     "output_type": "stream",
     "text": [
      "{1: -1.0, 2: 0.0, 3: 2.0, 4: 2.0, 5: 3.0, 6: 4.0, 7: 1.0}\n",
      "[(1, -1.0), (7, 1.0)]\n",
      "current height: -1.0\n",
      "Current vertex:  1\n",
      "Its root: 1\n",
      "1 is not own root? False\n",
      "current height: 0.0\n",
      "Current vertex:  1\n",
      "Its root: 1\n",
      "1 is not own root? False\n",
      "current height: 1.0\n",
      "Current vertex:  1\n",
      "Its root: 1\n",
      "1 is not own root? False\n",
      "Current vertex:  7\n",
      "Its root: 7\n",
      "7 is not own root? False\n",
      "current height: 2.0\n",
      "Current vertex:  1\n",
      "Its root: 1\n",
      "1 is not own root? False\n",
      "Current vertex:  7\n",
      "Its root: 7\n",
      "7 is not own root? False\n",
      "current height: 3.0\n",
      "Current vertex:  1\n",
      "Its root: 1\n",
      "1 is not own root? False\n",
      "Current vertex:  7\n",
      "Its root: 1\n",
      "7 is not own root? True\n",
      "7 no longer own root\n",
      "current height: 4.0\n",
      "Current vertex:  1\n",
      "Its root: 1\n",
      "1 is not own root? False\n",
      "[(0.0, 0.0), (2.0, 2.0), (2.0, 2.0), (3.0, 3.0), (4.0, 4.0), (1.0, 3.0)]\n",
      "[-1.0]\n"
     ]
    }
   ],
   "source": [
    "print(dict_heights)\n",
    "2 in dict_neig[1]\n",
    "res = new_diagram(dict_heights, dict_neig)\n",
    "print(res.points)\n",
    "print(res.infpoints)"
   ]
  },
  {
   "cell_type": "code",
   "execution_count": 302,
   "metadata": {
    "collapsed": false
   },
   "outputs": [
    {
     "name": "stdout",
     "output_type": "stream",
     "text": [
      "Object `alive.diff` not found.\n"
     ]
    }
   ],
   "source": []
  },
  {
   "cell_type": "code",
   "execution_count": null,
   "metadata": {
    "collapsed": true
   },
   "outputs": [],
   "source": []
  }
 ],
 "metadata": {
  "kernelspec": {
   "display_name": "Python 3",
   "language": "python",
   "name": "python3"
  },
  "language_info": {
   "codemirror_mode": {
    "name": "ipython",
    "version": 3
   },
   "file_extension": ".py",
   "mimetype": "text/x-python",
   "name": "python",
   "nbconvert_exporter": "python",
   "pygments_lexer": "ipython3",
   "version": "3.5.1"
  }
 },
 "nbformat": 4,
 "nbformat_minor": 0
}
