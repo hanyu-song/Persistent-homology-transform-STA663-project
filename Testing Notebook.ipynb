{
 "cells": [
  {
   "cell_type": "code",
   "execution_count": 16,
   "metadata": {
    "collapsed": false
   },
   "outputs": [],
   "source": [
    "import diagram\n",
    "import numpy as np\n",
    "import scipy.io as sio\n",
    "import scipy.optimize as sciopt\n",
    "import matplotlib.pyplot as plt\n",
    "import os\n",
    "from numba import jit\n",
    "import glob\n",
    "import cProfile\n",
    "%matplotlib inline\n",
    "#import munkres"
   ]
  },
  {
   "cell_type": "code",
   "execution_count": 9,
   "metadata": {
    "collapsed": false
   },
   "outputs": [
    {
     "data": {
      "text/plain": [
       "['./Class1_Sample1.mat', './Class1_Sample2.mat', './Class2_Sample1.mat']"
      ]
     },
     "execution_count": 9,
     "metadata": {},
     "output_type": "execute_result"
    }
   ],
   "source": [
    "glob.glob(\"./*.mat\")"
   ]
  },
  {
   "cell_type": "code",
   "execution_count": 2,
   "metadata": {
    "collapsed": false
   },
   "outputs": [],
   "source": [
    "dict_vert, edges = diagram.read_mesh_graph(\"test_obj\", 3)"
   ]
  },
  {
   "cell_type": "code",
   "execution_count": 2,
   "metadata": {
    "collapsed": true
   },
   "outputs": [],
   "source": [
    "def read_closed_shapes(directory):\n",
    "    \"\"\"\n",
    "    This requires glob and scipy.io as sio\n",
    "    \"\"\"\n",
    "    query = directory + \"*.mat\"\n",
    "    files = glob.glob(query)\n",
    "    shapes = []\n",
    "    for file in files:\n",
    "        vertices = sio.loadmat(file)['x']\n",
    "        N = vertices.shape[0]\n",
    "        edges = np.zeros((N,2))\n",
    "        edges[N-1,:] = np.array([N, 1])\n",
    "        for i in range(N-1):\n",
    "            edges[i,:] = np.array([i+1,i+2])\n",
    "        shapes.append([vertices, edges])\n",
    "    return shapes\n",
    "    \n",
    "    "
   ]
  },
  {
   "cell_type": "code",
   "execution_count": 4,
   "metadata": {
    "collapsed": false
   },
   "outputs": [],
   "source": [
    "bell1 = read_closed_shapes(\"./\")"
   ]
  },
  {
   "cell_type": "code",
   "execution_count": 6,
   "metadata": {
    "collapsed": false
   },
   "outputs": [
    {
     "name": "stdout",
     "output_type": "stream",
     "text": [
      "Beginning to calculate distances\n",
      "Calculating distance between 0 and 0\n",
      "Considering shift:  0\n",
      "Calculating finite distance for 0\n"
     ]
    },
    {
     "ename": "ValueError",
     "evalue": "Cannot type empty list",
     "output_type": "error",
     "traceback": [
      "\u001b[0;31m---------------------------------------------------------------------------\u001b[0m",
      "\u001b[0;31mValueError\u001b[0m                                Traceback (most recent call last)",
      "\u001b[0;32m<ipython-input-6-4cb1b62a1642>\u001b[0m in \u001b[0;36m<module>\u001b[0;34m()\u001b[0m\n\u001b[0;32m----> 1\u001b[0;31m \u001b[0mget_ipython\u001b[0m\u001b[0;34m(\u001b[0m\u001b[0;34m)\u001b[0m\u001b[0;34m.\u001b[0m\u001b[0mrun_cell_magic\u001b[0m\u001b[0;34m(\u001b[0m\u001b[0;34m'time'\u001b[0m\u001b[0;34m,\u001b[0m \u001b[0;34m''\u001b[0m\u001b[0;34m,\u001b[0m \u001b[0;34m'diagram.scaled_distance(bell1, diagram.sample_circle(3).T)'\u001b[0m\u001b[0;34m)\u001b[0m\u001b[0;34m\u001b[0m\u001b[0m\n\u001b[0m",
      "\u001b[0;32m/Users/azeemzaman/anaconda/lib/python3.5/site-packages/IPython/core/interactiveshell.py\u001b[0m in \u001b[0;36mrun_cell_magic\u001b[0;34m(self, magic_name, line, cell)\u001b[0m\n\u001b[1;32m   2118\u001b[0m             \u001b[0mmagic_arg_s\u001b[0m \u001b[0;34m=\u001b[0m \u001b[0mself\u001b[0m\u001b[0;34m.\u001b[0m\u001b[0mvar_expand\u001b[0m\u001b[0;34m(\u001b[0m\u001b[0mline\u001b[0m\u001b[0;34m,\u001b[0m \u001b[0mstack_depth\u001b[0m\u001b[0;34m)\u001b[0m\u001b[0;34m\u001b[0m\u001b[0m\n\u001b[1;32m   2119\u001b[0m             \u001b[0;32mwith\u001b[0m \u001b[0mself\u001b[0m\u001b[0;34m.\u001b[0m\u001b[0mbuiltin_trap\u001b[0m\u001b[0;34m:\u001b[0m\u001b[0;34m\u001b[0m\u001b[0m\n\u001b[0;32m-> 2120\u001b[0;31m                 \u001b[0mresult\u001b[0m \u001b[0;34m=\u001b[0m \u001b[0mfn\u001b[0m\u001b[0;34m(\u001b[0m\u001b[0mmagic_arg_s\u001b[0m\u001b[0;34m,\u001b[0m \u001b[0mcell\u001b[0m\u001b[0;34m)\u001b[0m\u001b[0;34m\u001b[0m\u001b[0m\n\u001b[0m\u001b[1;32m   2121\u001b[0m             \u001b[0;32mreturn\u001b[0m \u001b[0mresult\u001b[0m\u001b[0;34m\u001b[0m\u001b[0m\n\u001b[1;32m   2122\u001b[0m \u001b[0;34m\u001b[0m\u001b[0m\n",
      "\u001b[0;32m<decorator-gen-60>\u001b[0m in \u001b[0;36mtime\u001b[0;34m(self, line, cell, local_ns)\u001b[0m\n",
      "\u001b[0;32m/Users/azeemzaman/anaconda/lib/python3.5/site-packages/IPython/core/magic.py\u001b[0m in \u001b[0;36m<lambda>\u001b[0;34m(f, *a, **k)\u001b[0m\n\u001b[1;32m    191\u001b[0m     \u001b[0;31m# but it's overkill for just that one bit of state.\u001b[0m\u001b[0;34m\u001b[0m\u001b[0;34m\u001b[0m\u001b[0m\n\u001b[1;32m    192\u001b[0m     \u001b[0;32mdef\u001b[0m \u001b[0mmagic_deco\u001b[0m\u001b[0;34m(\u001b[0m\u001b[0marg\u001b[0m\u001b[0;34m)\u001b[0m\u001b[0;34m:\u001b[0m\u001b[0;34m\u001b[0m\u001b[0m\n\u001b[0;32m--> 193\u001b[0;31m         \u001b[0mcall\u001b[0m \u001b[0;34m=\u001b[0m \u001b[0;32mlambda\u001b[0m \u001b[0mf\u001b[0m\u001b[0;34m,\u001b[0m \u001b[0;34m*\u001b[0m\u001b[0ma\u001b[0m\u001b[0;34m,\u001b[0m \u001b[0;34m**\u001b[0m\u001b[0mk\u001b[0m\u001b[0;34m:\u001b[0m \u001b[0mf\u001b[0m\u001b[0;34m(\u001b[0m\u001b[0;34m*\u001b[0m\u001b[0ma\u001b[0m\u001b[0;34m,\u001b[0m \u001b[0;34m**\u001b[0m\u001b[0mk\u001b[0m\u001b[0;34m)\u001b[0m\u001b[0;34m\u001b[0m\u001b[0m\n\u001b[0m\u001b[1;32m    194\u001b[0m \u001b[0;34m\u001b[0m\u001b[0m\n\u001b[1;32m    195\u001b[0m         \u001b[0;32mif\u001b[0m \u001b[0mcallable\u001b[0m\u001b[0;34m(\u001b[0m\u001b[0marg\u001b[0m\u001b[0;34m)\u001b[0m\u001b[0;34m:\u001b[0m\u001b[0;34m\u001b[0m\u001b[0m\n",
      "\u001b[0;32m/Users/azeemzaman/anaconda/lib/python3.5/site-packages/IPython/core/magics/execution.py\u001b[0m in \u001b[0;36mtime\u001b[0;34m(self, line, cell, local_ns)\u001b[0m\n\u001b[1;32m   1171\u001b[0m         \u001b[0;32mif\u001b[0m \u001b[0mmode\u001b[0m\u001b[0;34m==\u001b[0m\u001b[0;34m'eval'\u001b[0m\u001b[0;34m:\u001b[0m\u001b[0;34m\u001b[0m\u001b[0m\n\u001b[1;32m   1172\u001b[0m             \u001b[0mst\u001b[0m \u001b[0;34m=\u001b[0m \u001b[0mclock2\u001b[0m\u001b[0;34m(\u001b[0m\u001b[0;34m)\u001b[0m\u001b[0;34m\u001b[0m\u001b[0m\n\u001b[0;32m-> 1173\u001b[0;31m             \u001b[0mout\u001b[0m \u001b[0;34m=\u001b[0m \u001b[0meval\u001b[0m\u001b[0;34m(\u001b[0m\u001b[0mcode\u001b[0m\u001b[0;34m,\u001b[0m \u001b[0mglob\u001b[0m\u001b[0;34m,\u001b[0m \u001b[0mlocal_ns\u001b[0m\u001b[0;34m)\u001b[0m\u001b[0;34m\u001b[0m\u001b[0m\n\u001b[0m\u001b[1;32m   1174\u001b[0m             \u001b[0mend\u001b[0m \u001b[0;34m=\u001b[0m \u001b[0mclock2\u001b[0m\u001b[0;34m(\u001b[0m\u001b[0;34m)\u001b[0m\u001b[0;34m\u001b[0m\u001b[0m\n\u001b[1;32m   1175\u001b[0m         \u001b[0;32melse\u001b[0m\u001b[0;34m:\u001b[0m\u001b[0;34m\u001b[0m\u001b[0m\n",
      "\u001b[0;32m<timed eval>\u001b[0m in \u001b[0;36m<module>\u001b[0;34m()\u001b[0m\n",
      "\u001b[0;32m/Users/azeemzaman/Documents/Spring2016/Sta663/STA663-FinalProject/diagram.py\u001b[0m in \u001b[0;36mscaled_distance\u001b[0;34m(list_objects, matrix_dir)\u001b[0m\n\u001b[1;32m    447\u001b[0m \t\t\t\t\tfinite_dist += finite_pt_dist(l_diagrams[i][cur],\n\u001b[1;32m    448\u001b[0m                                                         \u001b[0ml_diagrams\u001b[0m\u001b[0;34m[\u001b[0m\u001b[0mj\u001b[0m\u001b[0;34m]\u001b[0m\u001b[0;34m[\u001b[0m\u001b[0;34m(\u001b[0m\u001b[0mcur\u001b[0m \u001b[0;34m+\u001b[0m \u001b[0mshift\u001b[0m\u001b[0;34m)\u001b[0m\u001b[0;34m%\u001b[0m \u001b[0mk\u001b[0m\u001b[0;34m]\u001b[0m\u001b[0;34m,\u001b[0m\u001b[0;34m\u001b[0m\u001b[0m\n\u001b[0;32m--> 449\u001b[0;31m \t\t\t\t\t\t\t1)\n\u001b[0m\u001b[1;32m    450\u001b[0m \t\t\t\t\tinfinite_dist += inf_pt_dist(l_diagrams[i][cur],\n\u001b[1;32m    451\u001b[0m                                                         \u001b[0ml_diagrams\u001b[0m\u001b[0;34m[\u001b[0m\u001b[0mj\u001b[0m\u001b[0;34m]\u001b[0m\u001b[0;34m[\u001b[0m\u001b[0;34m(\u001b[0m\u001b[0mcur\u001b[0m \u001b[0;34m+\u001b[0m \u001b[0mshift\u001b[0m\u001b[0;34m)\u001b[0m\u001b[0;34m%\u001b[0m \u001b[0mk\u001b[0m\u001b[0;34m]\u001b[0m\u001b[0;34m,\u001b[0m\u001b[0;34m\u001b[0m\u001b[0m\n",
      "\u001b[0;32m/Users/azeemzaman/anaconda/lib/python3.5/site-packages/numba/dispatcher.py\u001b[0m in \u001b[0;36mtypeof_pyval\u001b[0;34m(self, val)\u001b[0m\n\u001b[1;32m    246\u001b[0m         \u001b[0;31m# Not going through the resolve_argument_type() indirection\u001b[0m\u001b[0;34m\u001b[0m\u001b[0;34m\u001b[0m\u001b[0m\n\u001b[1;32m    247\u001b[0m         \u001b[0;31m# can shape a couple µs.\u001b[0m\u001b[0;34m\u001b[0m\u001b[0;34m\u001b[0m\u001b[0m\n\u001b[0;32m--> 248\u001b[0;31m         \u001b[0mtp\u001b[0m \u001b[0;34m=\u001b[0m \u001b[0mtypeof\u001b[0m\u001b[0;34m(\u001b[0m\u001b[0mval\u001b[0m\u001b[0;34m)\u001b[0m\u001b[0;34m\u001b[0m\u001b[0m\n\u001b[0m\u001b[1;32m    249\u001b[0m         \u001b[0;32mif\u001b[0m \u001b[0mtp\u001b[0m \u001b[0;32mis\u001b[0m \u001b[0;32mNone\u001b[0m\u001b[0;34m:\u001b[0m\u001b[0;34m\u001b[0m\u001b[0m\n\u001b[1;32m    250\u001b[0m             \u001b[0mtp\u001b[0m \u001b[0;34m=\u001b[0m \u001b[0mtypes\u001b[0m\u001b[0;34m.\u001b[0m\u001b[0mpyobject\u001b[0m\u001b[0;34m\u001b[0m\u001b[0m\n",
      "\u001b[0;32m/Users/azeemzaman/anaconda/lib/python3.5/site-packages/numba/typing/typeof.py\u001b[0m in \u001b[0;36mtypeof\u001b[0;34m(val, purpose)\u001b[0m\n\u001b[1;32m     27\u001b[0m     \u001b[0;31m# Note the behaviour for Purpose.argument must match _typeof.c.\u001b[0m\u001b[0;34m\u001b[0m\u001b[0;34m\u001b[0m\u001b[0m\n\u001b[1;32m     28\u001b[0m     \u001b[0mc\u001b[0m \u001b[0;34m=\u001b[0m \u001b[0m_TypeofContext\u001b[0m\u001b[0;34m(\u001b[0m\u001b[0mpurpose\u001b[0m\u001b[0;34m)\u001b[0m\u001b[0;34m\u001b[0m\u001b[0m\n\u001b[0;32m---> 29\u001b[0;31m     \u001b[0;32mreturn\u001b[0m \u001b[0mtypeof_impl\u001b[0m\u001b[0;34m(\u001b[0m\u001b[0mval\u001b[0m\u001b[0;34m,\u001b[0m \u001b[0mc\u001b[0m\u001b[0;34m)\u001b[0m\u001b[0;34m\u001b[0m\u001b[0m\n\u001b[0m\u001b[1;32m     30\u001b[0m \u001b[0;34m\u001b[0m\u001b[0m\n\u001b[1;32m     31\u001b[0m \u001b[0;34m\u001b[0m\u001b[0m\n",
      "\u001b[0;32m/Users/azeemzaman/anaconda/lib/python3.5/functools.py\u001b[0m in \u001b[0;36mwrapper\u001b[0;34m(*args, **kw)\u001b[0m\n\u001b[1;32m    741\u001b[0m \u001b[0;34m\u001b[0m\u001b[0m\n\u001b[1;32m    742\u001b[0m     \u001b[0;32mdef\u001b[0m \u001b[0mwrapper\u001b[0m\u001b[0;34m(\u001b[0m\u001b[0;34m*\u001b[0m\u001b[0margs\u001b[0m\u001b[0;34m,\u001b[0m \u001b[0;34m**\u001b[0m\u001b[0mkw\u001b[0m\u001b[0;34m)\u001b[0m\u001b[0;34m:\u001b[0m\u001b[0;34m\u001b[0m\u001b[0m\n\u001b[0;32m--> 743\u001b[0;31m         \u001b[0;32mreturn\u001b[0m \u001b[0mdispatch\u001b[0m\u001b[0;34m(\u001b[0m\u001b[0margs\u001b[0m\u001b[0;34m[\u001b[0m\u001b[0;36m0\u001b[0m\u001b[0;34m]\u001b[0m\u001b[0;34m.\u001b[0m\u001b[0m__class__\u001b[0m\u001b[0;34m)\u001b[0m\u001b[0;34m(\u001b[0m\u001b[0;34m*\u001b[0m\u001b[0margs\u001b[0m\u001b[0;34m,\u001b[0m \u001b[0;34m**\u001b[0m\u001b[0mkw\u001b[0m\u001b[0;34m)\u001b[0m\u001b[0;34m\u001b[0m\u001b[0m\n\u001b[0m\u001b[1;32m    744\u001b[0m \u001b[0;34m\u001b[0m\u001b[0m\n\u001b[1;32m    745\u001b[0m     \u001b[0mregistry\u001b[0m\u001b[0;34m[\u001b[0m\u001b[0mobject\u001b[0m\u001b[0;34m]\u001b[0m \u001b[0;34m=\u001b[0m \u001b[0mfunc\u001b[0m\u001b[0;34m\u001b[0m\u001b[0m\n",
      "\u001b[0;32m/Users/azeemzaman/anaconda/lib/python3.5/site-packages/numba/typing/typeof.py\u001b[0m in \u001b[0;36m_typeof_list\u001b[0;34m(val, c)\u001b[0m\n\u001b[1;32m    124\u001b[0m \u001b[0;32mdef\u001b[0m \u001b[0m_typeof_list\u001b[0m\u001b[0;34m(\u001b[0m\u001b[0mval\u001b[0m\u001b[0;34m,\u001b[0m \u001b[0mc\u001b[0m\u001b[0;34m)\u001b[0m\u001b[0;34m:\u001b[0m\u001b[0;34m\u001b[0m\u001b[0m\n\u001b[1;32m    125\u001b[0m     \u001b[0;32mif\u001b[0m \u001b[0mlen\u001b[0m\u001b[0;34m(\u001b[0m\u001b[0mval\u001b[0m\u001b[0;34m)\u001b[0m \u001b[0;34m==\u001b[0m \u001b[0;36m0\u001b[0m\u001b[0;34m:\u001b[0m\u001b[0;34m\u001b[0m\u001b[0m\n\u001b[0;32m--> 126\u001b[0;31m         \u001b[0;32mraise\u001b[0m \u001b[0mValueError\u001b[0m\u001b[0;34m(\u001b[0m\u001b[0;34m\"Cannot type empty list\"\u001b[0m\u001b[0;34m)\u001b[0m\u001b[0;34m\u001b[0m\u001b[0m\n\u001b[0m\u001b[1;32m    127\u001b[0m     \u001b[0mty\u001b[0m \u001b[0;34m=\u001b[0m \u001b[0mtypeof_impl\u001b[0m\u001b[0;34m(\u001b[0m\u001b[0mval\u001b[0m\u001b[0;34m[\u001b[0m\u001b[0;36m0\u001b[0m\u001b[0;34m]\u001b[0m\u001b[0;34m,\u001b[0m \u001b[0mc\u001b[0m\u001b[0;34m)\u001b[0m\u001b[0;34m\u001b[0m\u001b[0m\n\u001b[1;32m    128\u001b[0m     \u001b[0;32mreturn\u001b[0m \u001b[0mtypes\u001b[0m\u001b[0;34m.\u001b[0m\u001b[0mList\u001b[0m\u001b[0;34m(\u001b[0m\u001b[0mty\u001b[0m\u001b[0;34m,\u001b[0m \u001b[0mreflected\u001b[0m\u001b[0;34m=\u001b[0m\u001b[0;32mTrue\u001b[0m\u001b[0;34m)\u001b[0m\u001b[0;34m\u001b[0m\u001b[0m\n",
      "\u001b[0;31mValueError\u001b[0m: Cannot type empty list"
     ]
    }
   ],
   "source": [
    "%%time\n",
    "diagram.scaled_distance(bell1, diagram.sample_circle(3).T)"
   ]
  },
  {
   "cell_type": "code",
   "execution_count": 14,
   "metadata": {
    "collapsed": false
   },
   "outputs": [
    {
     "data": {
      "text/plain": [
       "375"
      ]
     },
     "execution_count": 14,
     "metadata": {},
     "output_type": "execute_result"
    }
   ],
   "source": [
    "bell2 = [[bell1[0][0][:100,:], bell1[0][1][:99,:]]]\n",
    "len(bell1[0][0])"
   ]
  },
  {
   "cell_type": "code",
   "execution_count": 12,
   "metadata": {
    "collapsed": false
   },
   "outputs": [
    {
     "data": {
      "text/plain": [
       "[<matplotlib.lines.Line2D at 0x10a8c67f0>]"
      ]
     },
     "execution_count": 12,
     "metadata": {},
     "output_type": "execute_result"
    },
    {
     "data": {
      "image/png": "[encoded data removed]",
      "text/plain": [
       "<matplotlib.figure.Figure at 0x10a3efe80>"
      ]
     },
     "metadata": {},
     "output_type": "display_data"
    }
   ],
   "source": [
    "plt.plot(bell1[0][0][:,0],bell1[0][0][:,1])"
   ]
  },
  {
   "cell_type": "code",
   "execution_count": 13,
   "metadata": {
    "collapsed": false
   },
   "outputs": [
    {
     "data": {
      "text/plain": [
       "[<matplotlib.lines.Line2D at 0x10abf1828>]"
      ]
     },
     "execution_count": 13,
     "metadata": {},
     "output_type": "execute_result"
    },
    {
     "data": {
      "image/png": "[encoded data removed]",
      "text/plain": [
       "<matplotlib.figure.Figure at 0x10a5799b0>"
      ]
     },
     "metadata": {},
     "output_type": "display_data"
    }
   ],
   "source": [
    "plt.plot(bell1[1][0][:,0],bell1[1][0][:,1])"
   ]
  },
  {
   "cell_type": "code",
   "execution_count": 14,
   "metadata": {
    "collapsed": false
   },
   "outputs": [
    {
     "data": {
      "text/plain": [
       "[<matplotlib.lines.Line2D at 0x10ab61470>]"
      ]
     },
     "execution_count": 14,
     "metadata": {},
     "output_type": "execute_result"
    },
    {
     "data": {
      "image/png": "[encoded data removed]",
      "text/plain": [
       "<matplotlib.figure.Figure at 0x10ac056a0>"
      ]
     },
     "metadata": {},
     "output_type": "display_data"
    }
   ],
   "source": [
    "plt.plot(bell1[2][0][:,0],bell1[2][0][:,1])"
   ]
  },
  {
   "cell_type": "code",
   "execution_count": 15,
   "metadata": {
    "collapsed": false
   },
   "outputs": [
    {
     "data": {
      "text/plain": [
       "[<matplotlib.lines.Line2D at 0x10aa87128>]"
      ]
     },
     "execution_count": 15,
     "metadata": {},
     "output_type": "execute_result"
    },
    {
     "data": {
      "image/png": "[encoded data removed]",
      "text/plain": [
       "<matplotlib.figure.Figure at 0x10aaff710>"
      ]
     },
     "metadata": {},
     "output_type": "display_data"
    }
   ],
   "source": [
    "plt.plot(bell1[3][0][:,0],bell1[3][0][:,1])"
   ]
  },
  {
   "cell_type": "code",
   "execution_count": 5,
   "metadata": {
    "collapsed": false
   },
   "outputs": [],
   "source": [
    "list_heights, dict_heights, dict_neig = diagram.direction_order(dict_vert, edges, direction)"
   ]
  },
  {
   "cell_type": "code",
   "execution_count": 7,
   "metadata": {
    "collapsed": false
   },
   "outputs": [],
   "source": [
    "test_diagram = diagram.make_diagram(list_heights, dict_heights, dict_neig, infinity=100)"
   ]
  },
  {
   "cell_type": "code",
   "execution_count": 289,
   "metadata": {
    "collapsed": false
   },
   "outputs": [
    {
     "name": "stdout",
     "output_type": "stream",
     "text": [
      "{1: -1.0, 2: 0.0, 3: 1.0, 4: 0.0, 5: 0.0, 6: 1.0, 7: -1.0}\n",
      "here\n",
      "[(1, -1.0), (7, -1.0), (2, 0.0), (4, 0.0), (5, 0.0), (3, 1.0), (6, 1.0)]\n",
      "vertex:  1\n",
      "root:  1\n",
      "self root\n",
      "vertex:  7\n",
      "root:  7\n",
      "self root\n",
      "vertex:  2\n",
      "root:  1\n",
      "has lower neighbor, dies immediately\n",
      "vertex:  4\n",
      "root:  4\n",
      "self root\n",
      "vertex:  5\n",
      "root:  7\n",
      "has lower neighbor, dies immediately\n",
      "vertex:  3\n",
      "root:  1\n",
      "has lower neighbor, dies immediately\n",
      "vertex:  6\n",
      "root:  7\n",
      "has lower neighbor, dies immediately\n",
      "[(0.0, 0.0), (1.0, 1.0), (0.0, 0.0), (1.0, 1.0)]\n",
      "[-1.0, 0.0, -1.0]\n"
     ]
    }
   ],
   "source": [
    "print(dict_heights)\n",
    "2 in dict_neig[1]\n",
    "res = new_diagram(dict_heights, dict_neig)\n",
    "print(res.points)\n",
    "print(res.infpoints)"
   ]
  },
  {
   "cell_type": "code",
   "execution_count": 219,
   "metadata": {
    "collapsed": true
   },
   "outputs": [],
   "source": [
    "class Tree:\n",
    "    def __init__(self, name):\n",
    "        self.parent = self\n",
    "        self.rank = 0\n",
    "        self.name = name\n",
    "    def change_parent(self, new_parent):\n",
    "        self.parent = new_parent\n",
    "\n",
    "def Find(x):\n",
    "    if x.parent != x:\n",
    "        x.parent = Find(x.parent)\n",
    "    return x.parent\n",
    "        \n",
    "def Union(x, y):\n",
    "    x_root = Find(x)\n",
    "    y_root = Find(y)\n",
    "    if x_root == y_root:\n",
    "        return None\n",
    "    elif x_root.rank < y_root.rank:\n",
    "        x_root.parent = y_root\n",
    "    elif x_root.rank > y_root.rank:\n",
    "        y_root.parent = x_root\n",
    "    else:\n",
    "        y_root.parent = x_root\n",
    "        x_root.rank += 1\n",
    "        \n",
    "def height_Union(x, y, dict_heights):\n",
    "    x_root = Find(x)\n",
    "    y_root = Find(y)\n",
    "    if x_root == y_root:\n",
    "        return None\n",
    "    if dict_heights[x_root.name] < dict_heights[y_root.name]:\n",
    "        y_root.parent = x_root\n",
    "    elif dict_heights[x_root.name] == dict_heights[y_root.name]:\n",
    "        if x.name < y.name:\n",
    "            y_root.parent = x_root\n",
    "        else:\n",
    "            x_root.parent = y_root\n",
    "    else:\n",
    "        x_root.parent = y_root\n",
    "    \n",
    "\n",
    "        "
   ]
  },
  {
   "cell_type": "code",
   "execution_count": 2,
   "metadata": {
    "collapsed": false
   },
   "outputs": [],
   "source": [
    "dict_vert1, edges1 = diagram.read_mesh_graph(\"test_obj\", 3)\n",
    "direction = [-1,1]\n",
    "list_heights, dict_heights, dict_neig = diagram.direction_order(dict_vert1, edges1, direction)\n",
    "res1 = diagram.make_diagram(dict_heights, dict_neig)"
   ]
  },
  {
   "cell_type": "code",
   "execution_count": 3,
   "metadata": {
    "collapsed": false
   },
   "outputs": [],
   "source": [
    "dict_vert2, edges2 = diagram.read_mesh_graph(\"test_obj2\", 3)\n",
    "direction = [-1,1]\n",
    "list_heights, dict_heights, dict_neig = diagram.direction_order(dict_vert2, edges2, direction)\n",
    "res2 = diagram.make_diagram(dict_heights, dict_neig)"
   ]
  },
  {
   "cell_type": "code",
   "execution_count": 10,
   "metadata": {
    "collapsed": true
   },
   "outputs": [],
   "source": [
    "directions = diagram.sample_circle(500)"
   ]
  },
  {
   "cell_type": "code",
   "execution_count": 11,
   "metadata": {
    "collapsed": false
   },
   "outputs": [
    {
     "data": {
      "text/plain": [
       "array([[ 0.        ,  1.85553048],\n",
       "       [ 1.85553048,  0.        ]])"
      ]
     },
     "execution_count": 11,
     "metadata": {},
     "output_type": "execute_result"
    }
   ],
   "source": [
    "diagram.pairwise_distances([[dict_vert1, edges1],[dict_vert2, edges2]], directions)"
   ]
  },
  {
   "cell_type": "code",
   "execution_count": 21,
   "metadata": {
    "collapsed": false
   },
   "outputs": [
    {
     "name": "stdout",
     "output_type": "stream",
     "text": [
      "[-2.0]\n",
      "[-3.0]\n"
     ]
    }
   ],
   "source": [
    "print(res1.infpoints)\n",
    "print(res2.infpoints)"
   ]
  },
  {
   "cell_type": "code",
   "execution_count": 22,
   "metadata": {
    "collapsed": false
   },
   "outputs": [
    {
     "name": "stdout",
     "output_type": "stream",
     "text": [
      "[(2.0, 2.0), (0.0, 0.0), (0.0, 0.0)]\n",
      "[(-1.0, 0.0), (0.0, 0.0), (0.0, 0.0), (-2.0, -2.0), (-2.0, -2.0), (-3.0, -3.0)]\n"
     ]
    }
   ],
   "source": [
    "print(res1.points)\n",
    "print(res2.points)"
   ]
  },
  {
   "cell_type": "code",
   "execution_count": 367,
   "metadata": {
    "collapsed": false
   },
   "outputs": [
    {
     "data": {
      "text/plain": [
       "{1: -1.0, 2: 0.0, 3: 2.0, 4: 2.0, 5: 3.0, 6: 4.0, 7: 1.0}"
      ]
     },
     "execution_count": 367,
     "metadata": {},
     "output_type": "execute_result"
    }
   ],
   "source": [
    "dict_heights"
   ]
  },
  {
   "cell_type": "code",
   "execution_count": 368,
   "metadata": {
    "collapsed": false
   },
   "outputs": [
    {
     "name": "stdout",
     "output_type": "stream",
     "text": [
      "[(1, -1.0), (7, 1.0)]\n",
      "current height: -1.0\n",
      "Current vertex:  1\n",
      "Its root: 1\n",
      "1 is not own root? False\n",
      "current height: 0.0\n",
      "Current vertex:  1\n",
      "Its root: 1\n",
      "1 is not own root? False\n",
      "current height: 1.0\n",
      "Current vertex:  1\n",
      "Its root: 1\n",
      "1 is not own root? False\n",
      "Current vertex:  7\n",
      "Its root: 7\n",
      "7 is not own root? False\n",
      "current height: 2.0\n",
      "Current vertex:  1\n",
      "Its root: 1\n",
      "1 is not own root? False\n",
      "Current vertex:  7\n",
      "Its root: 7\n",
      "7 is not own root? False\n",
      "current height: 3.0\n",
      "Current vertex:  1\n",
      "Its root: 1\n",
      "1 is not own root? False\n",
      "Current vertex:  7\n",
      "Its root: 1\n",
      "7 is not own root? True\n",
      "7 no longer own root\n",
      "current height: 4.0\n",
      "Current vertex:  1\n",
      "Its root: 1\n",
      "1 is not own root? False\n"
     ]
    }
   ],
   "source": [
    "diag = new_diagram(dict_heights, dict_neig)"
   ]
  },
  {
   "cell_type": "code",
   "execution_count": 354,
   "metadata": {
    "collapsed": true
   },
   "outputs": [],
   "source": [
    "def new_diagram(dict_heights, dict_neighbors):\n",
    "    dict_trees = {v : Tree(v) for v in dict_heights.keys()}\n",
    "    vertices = set(dict_heights.keys())\n",
    "    heights = set(dict_heights.values())\n",
    "    heights_sorted = sorted(list(heights))\n",
    "    dict_below_h = {h: [] for h in heights}\n",
    "    for h in heights:\n",
    "        for v in vertices:\n",
    "            if dict_heights[v] <= h:\n",
    "                dict_below_h[h].append(v)\n",
    "    dict_deaths = {v: None for v in dict_heights.keys()}\n",
    "    dead = set()\n",
    "    for v in vertices:\n",
    "        if len(dict_neighbors[v]) != 0:\n",
    "            dict_deaths.update({v: dict_heights[v]})\n",
    "            dead.add(v)\n",
    "    alive = vertices.difference(dead)\n",
    "    pairs = [(key, value) for key, value in dict_heights.items() if key in alive]\n",
    "    pairs.sort(key = lambda x: x[1])\n",
    "    print(pairs)\n",
    "    for h in heights_sorted:\n",
    "        print(\"current height:\", h)\n",
    "        died = set()\n",
    "        for v in dict_below_h[h]:\n",
    "            for neigh in dict_neighbors[v]:\n",
    "                height_Union(dict_trees[v], dict_trees[neigh], dict_heights)\n",
    "        for v in alive:\n",
    "            if dict_heights[v] <= h:\n",
    "                print(\"Current vertex: \", v)\n",
    "                print(\"Its root:\", Find(dict_trees[v]).name)\n",
    "                own_root = v != Find(dict_trees[v]).name\n",
    "                print(v, \"is not own root?\", own_root)\n",
    "                if own_root:\n",
    "                    print(v, \"no longer own root\")\n",
    "                    died.add(v)\n",
    "                    dict_deaths.update({v: h}) \n",
    "        alive = alive.difference(died)\n",
    "    diag = diagram.Diagram()\n",
    "    for v in dict_heights.keys():\n",
    "        if dict_deaths[v] == None:\n",
    "            diag.addinfpt(dict_heights[v])\n",
    "        else:\n",
    "            diag.addpt((dict_heights[v], dict_deaths[v]))\n",
    "            \n",
    "            \n",
    "    return diag        "
   ]
  },
  {
   "cell_type": "code",
   "execution_count": 369,
   "metadata": {
    "collapsed": false
   },
   "outputs": [
    {
     "name": "stdout",
     "output_type": "stream",
     "text": [
      "{1: -1.0, 2: 0.0, 3: 2.0, 4: 2.0, 5: 3.0, 6: 4.0, 7: 1.0}\n",
      "[(1, -1.0), (7, 1.0)]\n",
      "current height: -1.0\n",
      "Current vertex:  1\n",
      "Its root: 1\n",
      "1 is not own root? False\n",
      "current height: 0.0\n",
      "Current vertex:  1\n",
      "Its root: 1\n",
      "1 is not own root? False\n",
      "current height: 1.0\n",
      "Current vertex:  1\n",
      "Its root: 1\n",
      "1 is not own root? False\n",
      "Current vertex:  7\n",
      "Its root: 7\n",
      "7 is not own root? False\n",
      "current height: 2.0\n",
      "Current vertex:  1\n",
      "Its root: 1\n",
      "1 is not own root? False\n",
      "Current vertex:  7\n",
      "Its root: 7\n",
      "7 is not own root? False\n",
      "current height: 3.0\n",
      "Current vertex:  1\n",
      "Its root: 1\n",
      "1 is not own root? False\n",
      "Current vertex:  7\n",
      "Its root: 1\n",
      "7 is not own root? True\n",
      "7 no longer own root\n",
      "current height: 4.0\n",
      "Current vertex:  1\n",
      "Its root: 1\n",
      "1 is not own root? False\n",
      "[(0.0, 0.0), (2.0, 2.0), (2.0, 2.0), (3.0, 3.0), (4.0, 4.0), (1.0, 3.0)]\n",
      "[-1.0]\n"
     ]
    }
   ],
   "source": []
  },
  {
   "cell_type": "code",
   "execution_count": 35,
   "metadata": {
    "collapsed": false
   },
   "outputs": [
    {
     "name": "stdout",
     "output_type": "stream",
     "text": [
      "[[ 1  0 -1  0]\n",
      " [ 0  1  0 -1]]\n",
      "[[ 2  2]\n",
      " [-1  1]\n",
      " [ 1 -1]\n",
      " [-1 -1]]\n",
      "[-1 -1 -2 -2]\n",
      "[1 1]\n"
     ]
    },
    {
     "data": {
      "text/plain": [
       "-6"
      ]
     },
     "execution_count": 35,
     "metadata": {},
     "output_type": "execute_result"
    }
   ],
   "source": [
    "matrix_dir = np.array([[1,0,-1,0],[0,1,0,-1]])\n",
    "print(matrix_dir)\n",
    "matrix_points = np.array([[2,2],[-1,1],[1,-1],[-1,-1]])\n",
    "print(matrix_points)\n",
    "res = matrix_points.dot(matrix_dir)\n",
    "lambdas = res.min(axis = 0)\n",
    "print(lambdas)\n",
    "u = matrix_dir.dot(lambdas)\n",
    "print(u)\n",
    "matrix_points - u[np.newaxis, :]\n",
    "lambdas.sum()"
   ]
  },
  {
   "cell_type": "code",
   "execution_count": 37,
   "metadata": {
    "collapsed": false
   },
   "outputs": [
    {
     "name": "stdout",
     "output_type": "stream",
     "text": [
      "2\n",
      "3\n",
      "4\n",
      "0\n",
      "1\n",
      "[1, 2, 3, 4, 5]\n"
     ]
    }
   ],
   "source": [
    "xs = [1,2,3,4,5]\n",
    "shift = 3\n",
    "for x in range(5):\n",
    "    print((x + 2)% 5)\n",
    "print(xs)"
   ]
  },
  {
   "cell_type": "code",
   "execution_count": 38,
   "metadata": {
    "collapsed": true
   },
   "outputs": [],
   "source": [
    "def scaled_distance(list_matrices, matrix_dir):\n",
    "    # first center each object\n",
    "    K = 0\n",
    "    # can change this to broadcasting\n",
    "    k = matrix_dir.shape[1]\n",
    "    for i in range(k):\n",
    "        K += np.cos(2*np.pi*i/k)**2\n",
    "    for obj in len(list_matrices):\n",
    "        obj = list_matrices[i]\n",
    "        prod = obj.dot(matrix_dir)\n",
    "        # minimum of each column is lambda_i\n",
    "        lambdas = prod.min(axis = 0)\n",
    "        u = (1/K)*matrix_dir.dot(lambdas)\n",
    "        list_matrices[i] -= u[np.newaxis,:]\n",
    "        L = -lambdas.sum()\n",
    "        list_matrices[i] /= L\n",
    "    l_diagrams = []\n",
    "    for shape in list_matrices:\n",
    "        shape_diagrams = []\n",
    "        for direction in matrix_dir:\n",
    "            l_heights, d_heights, d_n = direction_order(shape[0], \n",
    "                                                       shape[1],\n",
    "                                                       direction)\n",
    "            shape_diagram = make_diagram(d_heights, d_n)\n",
    "            shape_diagrams.append(shape_diagram)\n",
    "        l_diagrams.append(shape_diagrams)\n",
    "    N = len(list_matrices)\n",
    "    dist_mat = np.zeros((N,N))\n",
    "    for i in range(N):\n",
    "        for j in range(i,N):\n",
    "            list_dists = []\n",
    "            for shift in range(k):\n",
    "                finite_dist = 0\n",
    "                infinite_dist = 0\n",
    "                for cur in range(k):\n",
    "                    finite_dist += finite_pt_dist(l_diagrams[i][cur],\n",
    "                                                 l_diagrams[j][(cur + shift) % k],\n",
    "                                                 1)\n",
    "                    infinite_dist += inf_pt_dist(l_diagrams[i][cur],\n",
    "                                                 l_diagrams[j][(cur + shift) % k],\n",
    "                                                 1)                \n",
    "                list_dists.append(finite_dist + infinite_dist)\n",
    "            actual_dist = min(list_dists)\n",
    "            dist_mat[i,j] += actual_dist/k\n",
    "    dist_mat += dist_mat.T\n",
    "    return dist_mat\n",
    "        \n",
    "        \n",
    "        "
   ]
  },
  {
   "cell_type": "code",
   "execution_count": 23,
   "metadata": {
    "collapsed": false
   },
   "outputs": [
    {
     "name": "stdout",
     "output_type": "stream",
     "text": [
      "current j 0\n",
      "current j 1\n",
      "current j 2\n",
      "current j 3\n",
      "current j 4\n",
      "current j 1\n",
      "current j 2\n",
      "current j 3\n",
      "current j 4\n",
      "current j 0\n",
      "current j 2\n",
      "current j 3\n",
      "current j 4\n",
      "current j 0\n",
      "current j 1\n",
      "current j 3\n",
      "current j 4\n",
      "current j 0\n",
      "current j 1\n",
      "current j 2\n",
      "current j 4\n",
      "current j 0\n",
      "current j 1\n",
      "current j 2\n",
      "current j 3\n"
     ]
    }
   ],
   "source": [
    "\n",
    "for shift in range(5):\n",
    "    for cur in range(5):\n",
    "        print(\"current j\", (cur + shift) %5)\n",
    "        "
   ]
  },
  {
   "cell_type": "code",
   "execution_count": 34,
   "metadata": {
    "collapsed": false
   },
   "outputs": [
    {
     "name": "stdout",
     "output_type": "stream",
     "text": [
      "Collecting scipy.optimize\n",
      "\u001b[31m  Could not find a version that satisfies the requirement scipy.optimize (from versions: )\u001b[0m\n",
      "\u001b[31mNo matching distribution found for scipy.optimize\u001b[0m\n"
     ]
    }
   ],
   "source": [
    "!pip install --upgrade scipy.optimize"
   ]
  },
  {
   "cell_type": "code",
   "execution_count": 7,
   "metadata": {
    "collapsed": false
   },
   "outputs": [
    {
     "data": {
      "text/plain": [
       "0.03466823209753693"
      ]
     },
     "execution_count": 7,
     "metadata": {},
     "output_type": "execute_result"
    }
   ],
   "source": [
    "np.log(abs(np.cos(0)))-np.log(abs(np.cos(np.pi/12)))"
   ]
  },
  {
   "cell_type": "code",
   "execution_count": 10,
   "metadata": {
    "collapsed": false
   },
   "outputs": [
    {
     "name": "stdout",
     "output_type": "stream",
     "text": [
      "0.133974596216\n",
      "0.131652497587\n"
     ]
    }
   ],
   "source": [
    "print(np.tan(np.pi/12)/2)\n",
    "print(np.tan(np.pi/24))"
   ]
  },
  {
   "cell_type": "code",
   "execution_count": 29,
   "metadata": {
    "collapsed": false
   },
   "outputs": [],
   "source": [
    "points1 = np.random.random((300,2))\n",
    "points2 = np.random.random((200,2))"
   ]
  },
  {
   "cell_type": "code",
   "execution_count": 30,
   "metadata": {
    "collapsed": false
   },
   "outputs": [],
   "source": [
    "@jit\n",
    "def make_dist_mat(points1,points2):\n",
    "    n = len(points1)\n",
    "    m = len(points2)\n",
    "    dist_mat = np.zeros((n+m,n+m))\n",
    "    for i in range(n):\n",
    "        for j in range(m):\n",
    "            # distance from point i in diagram 1 to point j in diagram 2\n",
    "            dist_mat[i,j] += diagram.L1dist(points1[i],points2[j])\n",
    "        # distance from point i of diagram 1 to diagonal\n",
    "        dist_to_diag = diagram.diag_len(points1[i])\n",
    "        dist_mat[i, m:][np.newaxis,:] += dist_to_diag*np.ones((1,n))\n",
    "    # now we consider the m copies of the diagonal\n",
    "    for j in range(m):\n",
    "        # the distance from the diagonal to point j of diagram 2\n",
    "        dist_to_diag = diagram.diag_len(points2[j])\n",
    "        dist_mat[n:,j][:,np.newaxis] += dist_to_diag*np.ones((m,1))\n",
    "    \n",
    "    row_ind, col_ind = sciopt.linear_sum_assignment(dist_mat)\n",
    "    total_dist = 0\n",
    "    for i in range(len(row_ind)):\n",
    "        total_dist += dist_mat[row_ind[i],col_ind[i]]\n",
    "    \n",
    "    return total_dist"
   ]
  },
  {
   "cell_type": "code",
   "execution_count": 34,
   "metadata": {
    "collapsed": false
   },
   "outputs": [
    {
     "name": "stdout",
     "output_type": "stream",
     "text": [
      "-63.79989054235447\n",
      "CPU times: user 21.9 s, sys: 61.5 ms, total: 22 s\n",
      "Wall time: 22.1 s\n"
     ]
    }
   ],
   "source": [
    "%%time\n",
    "test = make_dist_mat(points1,points2)\n",
    "print(test)"
   ]
  },
  {
   "cell_type": "code",
   "execution_count": 41,
   "metadata": {
    "collapsed": false
   },
   "outputs": [
    {
     "ename": "ValueError",
     "evalue": "expected a matrix (2-d array), got a () array",
     "output_type": "error",
     "traceback": [
      "\u001b[0;31m---------------------------------------------------------------------------\u001b[0m",
      "\u001b[0;31mValueError\u001b[0m                                Traceback (most recent call last)",
      "\u001b[0;32m<ipython-input-41-7980e6cf2dc8>\u001b[0m in \u001b[0;36m<module>\u001b[0;34m()\u001b[0m\n\u001b[0;32m----> 1\u001b[0;31m \u001b[0msciopt\u001b[0m\u001b[0;34m.\u001b[0m\u001b[0mlinear_sum_assignment\u001b[0m\u001b[0;34m(\u001b[0m\u001b[0mtest\u001b[0m\u001b[0;34m)\u001b[0m\u001b[0;34m\u001b[0m\u001b[0m\n\u001b[0m",
      "\u001b[0;32m/Users/azeemzaman/anaconda/lib/python3.5/site-packages/scipy/optimize/_hungarian.py\u001b[0m in \u001b[0;36mlinear_sum_assignment\u001b[0;34m(cost_matrix)\u001b[0m\n\u001b[1;32m     83\u001b[0m     \u001b[0;32mif\u001b[0m \u001b[0mlen\u001b[0m\u001b[0;34m(\u001b[0m\u001b[0mcost_matrix\u001b[0m\u001b[0;34m.\u001b[0m\u001b[0mshape\u001b[0m\u001b[0;34m)\u001b[0m \u001b[0;34m!=\u001b[0m \u001b[0;36m2\u001b[0m\u001b[0;34m:\u001b[0m\u001b[0;34m\u001b[0m\u001b[0m\n\u001b[1;32m     84\u001b[0m         raise ValueError(\"expected a matrix (2-d array), got a %r array\"\n\u001b[0;32m---> 85\u001b[0;31m                          % (cost_matrix.shape,))\n\u001b[0m\u001b[1;32m     86\u001b[0m \u001b[0;34m\u001b[0m\u001b[0m\n\u001b[1;32m     87\u001b[0m     \u001b[0;31m# The algorithm expects more columns than rows in the cost matrix.\u001b[0m\u001b[0;34m\u001b[0m\u001b[0;34m\u001b[0m\u001b[0m\n",
      "\u001b[0;31mValueError\u001b[0m: expected a matrix (2-d array), got a () array"
     ]
    }
   ],
   "source": [
    "sciopt.linear_sum_assignment(test)"
   ]
  },
  {
   "cell_type": "code",
   "execution_count": 32,
   "metadata": {
    "collapsed": false
   },
   "outputs": [],
   "source": [
    "make_dist_mat(np.random.random((10,2)), np.random.random((10,2)))\n",
    "diagram1 = diagram.Diagram()\n",
    "diagram1.points = points1\n",
    "diagram2 = diagram.Diagram()\n",
    "diagram2.points = points2"
   ]
  },
  {
   "cell_type": "code",
   "execution_count": 35,
   "metadata": {
    "collapsed": false
   },
   "outputs": [
    {
     "name": "stdout",
     "output_type": "stream",
     "text": [
      "CPU times: user 20.6 s, sys: 47.6 ms, total: 20.7 s\n",
      "Wall time: 20.7 s\n"
     ]
    },
    {
     "data": {
      "text/plain": [
       "-63.79989054235447"
      ]
     },
     "execution_count": 35,
     "metadata": {},
     "output_type": "execute_result"
    }
   ],
   "source": [
    "%%time\n",
    "diagram.finite_pt_dist(diagram1, diagram2, 1)"
   ]
  },
  {
   "cell_type": "code",
   "execution_count": null,
   "metadata": {
    "collapsed": true
   },
   "outputs": [],
   "source": []
  }
 ],
 "metadata": {
  "kernelspec": {
   "display_name": "Python 3",
   "language": "python",
   "name": "python3"
  },
  "language_info": {
   "codemirror_mode": {
    "name": "ipython",
    "version": 3
   },
   "file_extension": ".py",
   "mimetype": "text/x-python",
   "name": "python",
   "nbconvert_exporter": "python",
   "pygments_lexer": "ipython3",
   "version": "3.5.1"
  }
 },
 "nbformat": 4,
 "nbformat_minor": 0
}
