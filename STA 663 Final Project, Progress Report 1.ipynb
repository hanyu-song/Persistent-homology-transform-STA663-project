{
 "cells": [
  {
   "cell_type": "markdown",
   "metadata": {},
   "source": [
    "STA 663 Final Project\n",
    "===\n",
    "Progress Report 1\n",
    "---\n"
   ]
  },
  {
   "cell_type": "markdown",
   "metadata": {},
   "source": [
    "Section 1:  Basic information\n",
    "---\n",
    "Group members:  Hanyu Song, Azeem Zaman\n",
    "\n",
    "Paper:  Persistent homology transform for modeling shapes and surfaces\n",
    "\n",
    "Authors:  Turner, Katharine; Mukherjee, Sayan; Boyer, Doug\n",
    "\n"
   ]
  },
  {
   "cell_type": "markdown",
   "metadata": {},
   "source": [
    "Section 2:  Project Abstract\n",
    "---\n",
    "**Abstract**\n",
    "For our project we write code to implement the results of the paper by Turner et. al.  In particular, we develop code to compute the persistent homology transform (PHT), which is a statistic that can be used to model shapes.  The PHT allows us to determine a metric on the space of piecewise linear shapes, which can in turn be used for analytical tools such as clustering.  "
   ]
  },
  {
   "cell_type": "markdown",
   "metadata": {
    "collapsed": true
   },
   "source": [
    "Section 3:  Code\n",
    "---\n",
    "This section will contain a general description of the code.  Probably a list of functions that could be used for documentation.\n",
    "\n",
    "Section 4:  Tests\n",
    "---\n",
    "Write some tests. In particular, compare results from our code to results in the paper to ensure that our code has the same results.  Test on simple simulated data.\n",
    "\n",
    "Section 5:  Optimization\n",
    "---\n",
    "This section will describe the steps taken to optimize the speed of the code using methods such as just-in-time compilation, Cython, and possibly alternate algorithms.\n",
    "\n",
    "Section 6:  Packaging\n",
    "Prepare GitHub repo for distribution.  Prof Mukherjee expressed interest in having the code wrapped for use in R.  If we have time, we will work on this.  "
   ]
  },
  {
   "cell_type": "code",
   "execution_count": null,
   "metadata": {
    "collapsed": true
   },
   "outputs": [],
   "source": []
  }
 ],
 "metadata": {
  "kernelspec": {
   "display_name": "Python 3",
   "language": "python",
   "name": "python3"
  },
  "language_info": {
   "codemirror_mode": {
    "name": "ipython",
    "version": 3
   },
   "file_extension": ".py",
   "mimetype": "text/x-python",
   "name": "python",
   "nbconvert_exporter": "python",
   "pygments_lexer": "ipython3",
   "version": "3.4.4"
  }
 },
 "nbformat": 4,
 "nbformat_minor": 0
}
