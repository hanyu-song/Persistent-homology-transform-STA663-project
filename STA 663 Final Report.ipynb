{
 "cells": [
  {
   "cell_type": "markdown",
   "metadata": {},
   "source": [
    "STA 663 Final Project\n",
    "===\n",
    "Final Report\n",
    "---\n"
   ]
  },
  {
   "cell_type": "markdown",
   "metadata": {},
   "source": [
    "Section 1:  Basic Information\n",
    "---\n",
    "Group members:  Hanyu Song, Azeem Zaman\n",
    "\n",
    "Paper:  Persistent homology transform for modeling shapes and surfaces\n",
    "\n",
    "Authors:  Turner, Katharine; Mukherjee, Sayan; Boyer, Doug\n",
    "\n"
   ]
  },
  {
   "cell_type": "markdown",
   "metadata": {},
   "source": [
    "Section 2:  Project Abstract\n",
    "---\n",
    "### Abstract\n",
    "Our goal was to develop a package to implement the results of the paper by Turner et. al. In particular, we wrote codes to compute the persistent homology transform (PHT) of an object in $\\mathbb{R}^3$ and shapes in $\\mathbb{R}^2$. PHT is a statistic that completely describes a shape or surface and allows us to determine a metric on the space of piecewise linear shapes, thereby possibly useful for statistical analysis such as clustering. "
   ]
  },
  {
   "cell_type": "markdown",
   "metadata": {},
   "source": [
    "### Background\n",
    "\n",
    "The paper introduces a tool that can be used to perform statistical shape analysis on objects in $\\mathbb{R}^3$ and shapes in $\\mathbb{R}^2$.  The result can be of interest to topological data analysists (TDA), researchers modeling shapes (such as medical imaging) and morphologists. One of the paper authors use this to compute the distance between heel bones in primates to generate a tree, which can be compared with a tree generated from the genetic distances between primate species.  "
   ]
  },
  {
   "cell_type": "markdown",
   "metadata": {},
   "source": [
    "Section 3:  Code\n",
    "---\n",
    "This section contains a general description of each function, including:\n",
    "1.  A function to read in files containing the data\n",
    "2.  A function to construct a persistence diagram given a direction\n",
    "3.  A function to calculate the distance between persistence diagrams\n",
    "4.  Functions to generate directions for the construction of persistence diagrams\n",
    "\n",
    "a. The following packages are required for implementation: $\\textbf{math}, \\textbf{multiprocessing}, \\textbf{numpy}, \\textbf{scipy}, \\textbf{glob}$ and $\\textbf{numba}$.\n"
   ]
  },
  {
   "cell_type": "code",
   "execution_count": 8,
   "metadata": {
    "collapsed": true
   },
   "outputs": [],
   "source": [
    "import math\n",
    "import multiprocessing as mp\n",
    "import numpy as np\n",
    "import scipy.io as sio\n",
    "import glob\n",
    "from scipy.optimize import linear_sum_assignment\n",
    "from numba import jit"
   ]
  },
  {
   "cell_type": "markdown",
   "metadata": {},
   "source": [
    "\n",
    "\n",
    "Functions for reading in Shapes\n",
    "---\n",
    "There are two functions for reading in data included in the package.  The first, `read_mesh_graph` is for reading in raw shape files.  The input files should be text files, structured as follows:\n",
    "1.  The first line should contain two numbers.  The first number is the number of vertices in the shape, the second is the number of edges.\n",
    "2.  The next lines contain the coordinates of the vertices, one per line.  The points should be seperated by spaces.\n",
    "3.  The last set of lines should contain two integers, representing vertices, that have an edge betweent them.\n",
    "\n",
    "An example of sum a file is given below."
   ]
  },
  {
   "cell_type": "markdown",
   "metadata": {},
   "source": [
    "    4 4 <- Number of vertices, number of edges\n",
    "    -1 1 <- vertex 1\n",
    "    1 1\n",
    "    1 -1\n",
    "    -1 -1 <- vertex 4\n",
    "    1 2 <- edge from 1 to 2\n",
    "    2 3\n",
    "    3 4\n",
    "    4 1 <- edge from 4 to 1"
   ]
  },
  {
   "cell_type": "code",
   "execution_count": null,
   "metadata": {
    "collapsed": true
   },
   "outputs": [],
   "source": []
  },
  {
   "cell_type": "markdown",
   "metadata": {},
   "source": [
    "The other function, `read_closed_shape`, is used to read Matlab `.mat` files.  It reads all `.mat` files in a specified directory.  This function assumes that the shapes are closed, by which we mean that each vertex it connected to the next vertex (vertex $n$ is connected to vertex $n+1$) and the last vertex is connected to the first.  This is a very specific function, but this is a common format used in image analysis.  "
   ]
  },
  {
   "cell_type": "markdown",
   "metadata": {
    "collapsed": true
   },
   "source": [
    "Algorithms\n",
    "---\n",
    "One algorithm used is the Hungarian (or Munkres) algorithm.  The alogirthm is used in situations where assignments with an associated cost must be made and the goal is the select the assignment to minimize the cost.  This algorithm is used to calculate the distance between persistence diagrams.  The distance between persistence diagrams is the distance between is the sum of the distances between the points of the first persistence diagram paired with the points of the second diagram and additional points on the diagonal.  Selecting the pairing that minimzies this distance can be achieved with the Munkres algorithm.\n",
    "\n",
    "Another algorithm used in our code is the Union-Find algorithm.  This algorithm is used in the construction of the persistence diagrams.  During the construction we must keep track of when disjoint components merge.  We view each component as a tree.  When two components merge we join the the roots of the trees.  This allows us to find when disjoint components merge.\n",
    "\n",
    "Section 4:  Tests\n",
    "---\n",
    "Write some tests. In particular, compare results from our codes to results in the paper to ensure that our codes yield the same results.  Test on simple simulated data.\n",
    "\n",
    "Section 5:  Optimization\n",
    "---\n",
    "This section will describe the steps taken to optimize the speed of the code using methods such as just-in-time compilation, Cython, and possibly alternative algorithms.\n",
    "\n",
    "Section 6:  Packaging\n",
    "---\n",
    "Prepare GitHub repo for distribution.  Prof Mukherjee expressed interest in having the code wrapped for use in R.  If we have time, we will work on this.  "
   ]
  },
  {
   "cell_type": "code",
   "execution_count": null,
   "metadata": {
    "collapsed": true
   },
   "outputs": [],
   "source": []
  }
 ],
 "metadata": {
  "kernelspec": {
   "display_name": "Python 3",
   "language": "python",
   "name": "python3"
  },
  "language_info": {
   "codemirror_mode": {
    "name": "ipython",
    "version": 3
   },
   "file_extension": ".py",
   "mimetype": "text/x-python",
   "name": "python",
   "nbconvert_exporter": "python",
   "pygments_lexer": "ipython3",
   "version": "3.4.4"
  }
 },
 "nbformat": 4,
 "nbformat_minor": 0
}
